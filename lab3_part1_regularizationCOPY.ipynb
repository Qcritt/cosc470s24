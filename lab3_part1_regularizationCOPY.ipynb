{
  "nbformat": 4,
  "nbformat_minor": 0,
  "metadata": {
    "colab": {
      "provenance": [],
      "authorship_tag": "ABX9TyN60nAgYAluo3yJ4qvysSta",
      "include_colab_link": true
    },
    "kernelspec": {
      "name": "python3",
      "display_name": "Python 3"
    },
    "language_info": {
      "name": "python"
    }
  },
  "cells": [
    {
      "cell_type": "markdown",
      "metadata": {
        "id": "view-in-github",
        "colab_type": "text"
      },
      "source": [
        "<a href=\"https://colab.research.google.com/github/Qcritt/cosc470s24/blob/main/lab3_part1_regularizationCOPY.ipynb\" target=\"_parent\"><img src=\"https://colab.research.google.com/assets/colab-badge.svg\" alt=\"Open In Colab\"/></a>"
      ]
    },
    {
      "cell_type": "code",
      "execution_count": 11,
      "metadata": {
        "colab": {
          "base_uri": "https://localhost:8080/"
        },
        "id": "AtFfbvGzVyRj",
        "outputId": "5b9f56eb-9d77-4309-dd7d-8de2420ba3ea"
      },
      "outputs": [
        {
          "output_type": "stream",
          "name": "stdout",
          "text": [
            "Cloning into 'nn'...\n",
            "remote: Enumerating objects: 80, done.\u001b[K\n",
            "remote: Counting objects: 100% (25/25), done.\u001b[K\n",
            "remote: Compressing objects: 100% (24/24), done.\u001b[K\n",
            "remote: Total 80 (delta 11), reused 5 (delta 1), pack-reused 55\u001b[K\n",
            "Receiving objects: 100% (80/80), 16.44 MiB | 19.47 MiB/s, done.\n",
            "Resolving deltas: 100% (38/38), done.\n",
            "/content/nn/nn/nn/nn/nn/nn\n"
          ]
        }
      ],
      "source": [
        "!git clone https://github.com/kartoone/DeepLearningPython nn\n",
        "%cd nn"
      ]
    },
    {
      "cell_type": "code",
      "source": [
        "from network2 import Network, CrossEntropyCost\n",
        "import mnist_loader\n",
        "import numpy as np\n",
        "training_data, validation_data, test_data = mnist_loader.load_data_wrapper()\n",
        "training_data = list(training_data)\n",
        "test_data = list(test_data)[0:3]\n",
        "net = Network([784, 30, 10], cost=CrossEntropyCost)\n",
        "net.large_weight_initializer()\n",
        "_,_,_,<weights = net.SGD(training_data, 30, 10, 0.5, evaluation_data=test_data, monitor_evaluation_accuracy=True )"
      ],
      "metadata": {
        "id": "blicyT52WKIx",
        "outputId": "82d275db-81d4-46a5-985b-c20d81c19f47",
        "colab": {
          "base_uri": "https://localhost:8080/"
        }
      },
      "execution_count": 12,
      "outputs": [
        {
          "metadata": {
            "tags": null
          },
          "name": "stdout",
          "output_type": "stream",
          "text": [
            "Epoch 0 training complete\n",
            "Appending weights for epoch 0\n",
            "Accuracy on evaluation data: 3 / 3\n",
            "Epoch 1 training complete\n",
            "Appending weights for epoch 1\n",
            "Accuracy on evaluation data: 3 / 3\n",
            "Epoch 2 training complete\n",
            "Appending weights for epoch 2\n",
            "Accuracy on evaluation data: 3 / 3\n",
            "Epoch 3 training complete\n",
            "Appending weights for epoch 3\n",
            "Accuracy on evaluation data: 3 / 3\n",
            "Epoch 4 training complete\n",
            "Appending weights for epoch 4\n",
            "Accuracy on evaluation data: 3 / 3\n",
            "Epoch 5 training complete\n",
            "Appending weights for epoch 5\n",
            "Accuracy on evaluation data: 3 / 3\n",
            "Epoch 6 training complete\n",
            "Appending weights for epoch 6\n",
            "Accuracy on evaluation data: 3 / 3\n",
            "Epoch 7 training complete\n",
            "Appending weights for epoch 7\n",
            "Accuracy on evaluation data: 3 / 3\n",
            "Epoch 8 training complete\n",
            "Appending weights for epoch 8\n",
            "Accuracy on evaluation data: 3 / 3\n",
            "Epoch 9 training complete\n",
            "Appending weights for epoch 9\n",
            "Accuracy on evaluation data: 3 / 3\n",
            "Epoch 10 training complete\n",
            "Appending weights for epoch 10\n",
            "Accuracy on evaluation data: 3 / 3\n",
            "Epoch 11 training complete\n",
            "Appending weights for epoch 11\n",
            "Accuracy on evaluation data: 3 / 3\n",
            "Epoch 12 training complete\n",
            "Appending weights for epoch 12\n",
            "Accuracy on evaluation data: 3 / 3\n",
            "Epoch 13 training complete\n",
            "Appending weights for epoch 13\n",
            "Accuracy on evaluation data: 3 / 3\n",
            "Epoch 14 training complete\n",
            "Appending weights for epoch 14\n",
            "Accuracy on evaluation data: 3 / 3\n",
            "Epoch 15 training complete\n",
            "Appending weights for epoch 15\n",
            "Accuracy on evaluation data: 3 / 3\n",
            "Epoch 16 training complete\n",
            "Appending weights for epoch 16\n",
            "Accuracy on evaluation data: 3 / 3\n",
            "Epoch 17 training complete\n",
            "Appending weights for epoch 17\n",
            "Accuracy on evaluation data: 3 / 3\n",
            "Epoch 18 training complete\n",
            "Appending weights for epoch 18\n",
            "Accuracy on evaluation data: 3 / 3\n",
            "Epoch 19 training complete\n",
            "Appending weights for epoch 19\n",
            "Accuracy on evaluation data: 3 / 3\n",
            "Epoch 20 training complete\n",
            "Appending weights for epoch 20\n",
            "Accuracy on evaluation data: 3 / 3\n",
            "Epoch 21 training complete\n",
            "Appending weights for epoch 21\n",
            "Accuracy on evaluation data: 3 / 3\n",
            "Epoch 22 training complete\n",
            "Appending weights for epoch 22\n",
            "Accuracy on evaluation data: 3 / 3\n",
            "Epoch 23 training complete\n",
            "Appending weights for epoch 23\n",
            "Accuracy on evaluation data: 3 / 3\n",
            "Epoch 24 training complete\n",
            "Appending weights for epoch 24\n",
            "Accuracy on evaluation data: 3 / 3\n",
            "Epoch 25 training complete\n",
            "Appending weights for epoch 25\n",
            "Accuracy on evaluation data: 3 / 3\n",
            "Epoch 26 training complete\n",
            "Appending weights for epoch 26\n",
            "Accuracy on evaluation data: 3 / 3\n",
            "Epoch 27 training complete\n",
            "Appending weights for epoch 27\n",
            "Accuracy on evaluation data: 3 / 3\n",
            "Epoch 28 training complete\n",
            "Appending weights for epoch 28\n",
            "Accuracy on evaluation data: 3 / 3\n",
            "Epoch 29 training complete\n",
            "Appending weights for epoch 29\n",
            "Accuracy on evaluation data: 3 / 3\n"
          ]
        }
      ]
    },
    {
      "cell_type": "code",
      "source": [
        "print(len(weights[4][0][0]))"
      ],
      "metadata": {
        "id": "nDbSMppbceP2"
      },
      "execution_count": null,
      "outputs": []
    },
    {
      "cell_type": "code",
      "source": [
        "import matplotlib.pyplot as plt\n",
        "import numpy as np\n",
        "from PIL import Iamge\n",
        "\n",
        "def helper(filename):\n",
        "  image = Image.open(filename).convert('L')\n",
        "  # convert image to numpy array\n",
        "  image_array = np.array(image)\n",
        "  # normalize to values between 0 and 1\n",
        "  image_array = image_array/255.0\n",
        "  return net3.feedforward(np.reshape(image_array,(784,1)))\n",
        "\n",
        "correctg = 0\n",
        "corrects = 0\n",
        "correctl = 0\n",
        "  for i in range(9):\n",
        "    agood = helper(f\"good{i}.png\")\n",
        "    if np.argmax(agood)==i:\n",
        "      correctg_exp += 1\n",
        "    asmall = helper(f\"small{i}.png\")\n",
        "    if np.argmax(asmall)==i:\n",
        "      corrects_exp += 1\n",
        "    alarge = helper(f\"large{i}.png\")\n",
        "        if np.argmax(alarge)==i:\n",
        "          correctl_exp += 1\n",
        "\n",
        "print([correctg_exp, corrects_exp, correctl_exp])"
      ],
      "metadata": {
        "id": "RlstohUGnOQS"
      },
      "execution_count": null,
      "outputs": []
    }
  ]
}