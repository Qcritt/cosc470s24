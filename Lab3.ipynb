{
  "nbformat": 4,
  "nbformat_minor": 0,
  "metadata": {
    "colab": {
      "provenance": [],
      "authorship_tag": "ABX9TyM0UxrzzUYR/fPeD0E3sx8q",
      "include_colab_link": true
    },
    "kernelspec": {
      "name": "python3",
      "display_name": "Python 3"
    },
    "language_info": {
      "name": "python"
    }
  },
  "cells": [
    {
      "cell_type": "markdown",
      "metadata": {
        "id": "view-in-github",
        "colab_type": "text"
      },
      "source": [
        "<a href=\"https://colab.research.google.com/github/Qcritt/cosc470s24/blob/main/Lab3.ipynb\" target=\"_parent\"><img src=\"https://colab.research.google.com/assets/colab-badge.svg\" alt=\"Open In Colab\"/></a>"
      ]
    },
    {
      "cell_type": "code",
      "source": [
        "!git clone https://github.com/kartoone/DeepLearningPython nn\n",
        "%cd nn"
      ],
      "metadata": {
        "colab": {
          "base_uri": "https://localhost:8080/"
        },
        "id": "nt1s5GvL8mmu",
        "outputId": "a63fb4fe-6c2c-4b21-a342-47f572dd68e8"
      },
      "execution_count": 1,
      "outputs": [
        {
          "output_type": "stream",
          "name": "stdout",
          "text": [
            "Cloning into 'nn'...\n",
            "remote: Enumerating objects: 80, done.\u001b[K\n",
            "remote: Counting objects: 100% (25/25), done.\u001b[K\n",
            "remote: Compressing objects: 100% (24/24), done.\u001b[K\n",
            "remote: Total 80 (delta 11), reused 5 (delta 1), pack-reused 55\u001b[K\n",
            "Receiving objects: 100% (80/80), 16.44 MiB | 12.88 MiB/s, done.\n",
            "Resolving deltas: 100% (38/38), done.\n",
            "/content/nn\n"
          ]
        }
      ]
    },
    {
      "cell_type": "code",
      "source": [
        "import network\n",
        "import mnist_loader\n",
        "training_data, validation_data, test_data = mnist_loader.load_data_wrapper()\n",
        "training_data = list(training_data)\n",
        "test_data = list(test_data)"
      ],
      "metadata": {
        "id": "YcJq5Nd_8ops"
      },
      "execution_count": 2,
      "outputs": []
    },
    {
      "cell_type": "code",
      "source": [
        "import numpy as np\n",
        "print(np.shape(training_data[0][0]))\n",
        "print(np.shape(training_data[0][1]))\n",
        "print(training_data[0][1])"
      ],
      "metadata": {
        "colab": {
          "base_uri": "https://localhost:8080/"
        },
        "id": "sfuc0ZFA8vHx",
        "outputId": "e664f970-5a69-4901-b2a7-bb20d757e267"
      },
      "execution_count": 3,
      "outputs": [
        {
          "output_type": "stream",
          "name": "stdout",
          "text": [
            "(784, 1)\n",
            "(10, 1)\n",
            "[[0.]\n",
            " [0.]\n",
            " [0.]\n",
            " [0.]\n",
            " [0.]\n",
            " [1.]\n",
            " [0.]\n",
            " [0.]\n",
            " [0.]\n",
            " [0.]]\n"
          ]
        }
      ]
    },
    {
      "cell_type": "code",
      "source": [
        "# average digit darkness\n",
        "# step 1 - write a function that can calculate the darkness of a single image\n",
        "def image_darkness(imgpixeldata):\n",
        "  darkness_total = 0\n",
        "  for x in imgpixeldata:\n",
        "    darkness_total = darkness_total + x\n",
        "  return darkness_total[0]\n",
        "\n",
        "# step 2 - call that function on all the training images and calculate the average darkness of each digit\n",
        "darkness = image_darkness(training_data[0][0])\n",
        "whichimage = np.argmax(training_data[0][1])\n",
        "print(f\"The first image was a {whichimage} and its darkness was {darkness}\")\n",
        "darkness = image_darkness(training_data[1][0])\n",
        "whichimage = np.argmax(training_data[1][1])\n",
        "print(f\"The second image was a {whichimage} and its darkness was {darkness}\")\n",
        "\n",
        "# define a 10-element list of darkness totals\n",
        "darkness_totals = [0 for _ in range(10)]\n",
        "# define a 10-elment list of digit counts\n",
        "darkness_counts = [0 for _ in range(10)]\n",
        "#there are 10 elements in the array because the 10 output nodes correspond to the 10 possible digits we are returning. Each digit has a different average darkness\n",
        "\n",
        "\n",
        "# iterate through each image and update the two data structures\n",
        "for training_img in training_data:\n",
        "  darkness = image_darkness(training_img[0])\n",
        "  whichimage = np.argmax(training_img[1])\n",
        "  darkness_totals[whichimage] += darkness\n",
        "  darkness_counts[whichimage] += 1\n",
        "\n",
        "# now calculate the averages\n",
        "darkness_averages = [darkness_totals[i]/darkness_counts[i] for i in range(10)]\n",
        "\n",
        "print(darkness_counts)\n",
        "print(darkness_averages)\n",
        "\n",
        "# step 3 - use those averages to classify all the test data images and count how many of each digit you get right\n",
        "def find_closest(darkness, darkness_averages):\n",
        "  differnces = np.abs(darkness_averages - darkness)\n",
        "  return np.argmin(differnces)\n",
        "\n",
        "correct_counts = [0 for _ in range(10)]\n",
        "wrong_counts = [0 for _ in range(10)]\n",
        "\n",
        "for imgdata, whichimage in test_data:\n",
        "  darkness = image_darkness(imgdata)\n",
        "  # see which darkness_average is closest to \"darkness\" and make that our classification for this image\n",
        "  closest_digit = find_closest(darkness, darkness_averages)\n",
        "  if closest_digit == whichimage:\n",
        "    correct_counts[whichimage] += 1\n",
        "  else:\n",
        "    wrong_counts[whichimage] += 1\n",
        "\n",
        "# now that we have our correct/wrong counts, turn that into accuracies\n",
        "digit_accuracies = [correct_counts[i]/(correct_counts[i]+wrong_counts[i]) for i in range(10)]\n",
        "print(digit_accuracies)\n",
        "\n"
      ],
      "metadata": {
        "colab": {
          "base_uri": "https://localhost:8080/"
        },
        "id": "H8DdfaeE867y",
        "outputId": "c3ca7a84-bc3f-4939-9ac5-ea1f7d94034d"
      },
      "execution_count": 4,
      "outputs": [
        {
          "output_type": "stream",
          "name": "stdout",
          "text": [
            "The first image was a 5 and its darkness was 107.51953125\n",
            "The second image was a 0 and its darkness was 121.46484375\n",
            "[4932, 5678, 4968, 5101, 4859, 4506, 4951, 5175, 4842, 4988]\n",
            "[135.8691200324412, 59.66034750352237, 116.294303857186, 110.87092451235051, 95.22073970338548, 100.34646166222814, 107.38312020298929, 89.8788345410628, 117.88056410703221, 96.0455585592923]\n",
            "[0.5418367346938775, 0.8290748898678414, 0.04844961240310078, 0.048514851485148516, 0.048879837067209775, 0.0795964125560538, 0.06576200417536535, 0.28793774319066145, 0.13655030800821355, 0.04261645193260654]\n"
          ]
        }
      ]
    },
    {
      "cell_type": "code",
      "source": [
        "# part 2 - use this default configuration and the following hyper-parameters\n",
        "#    epochs - 30\n",
        "#    batch size - 10\n",
        "#    learning rate - 3.0\n",
        "net = network.Network([784, 30, 10])\n",
        "net.SGD(training_data, 10, 10, 3.0, test_data=test_data)"
      ],
      "metadata": {
        "colab": {
          "base_uri": "https://localhost:8080/"
        },
        "id": "iYJL5vxA865K",
        "outputId": "540ecd4e-ed62-489d-d7cf-e3458c25746f"
      },
      "execution_count": 5,
      "outputs": [
        {
          "output_type": "stream",
          "name": "stdout",
          "text": [
            "Epoch 0 : 9082 / 10000\n",
            "Epoch 1 : 9236 / 10000\n",
            "Epoch 2 : 9297 / 10000\n",
            "Epoch 3 : 9259 / 10000\n",
            "Epoch 4 : 9336 / 10000\n",
            "Epoch 5 : 9353 / 10000\n",
            "Epoch 6 : 9387 / 10000\n",
            "Epoch 7 : 9358 / 10000\n",
            "Epoch 8 : 9404 / 10000\n",
            "Epoch 9 : 9411 / 10000\n"
          ]
        }
      ]
    },
    {
      "cell_type": "code",
      "source": [
        "import numpy as np\n",
        "a = net.feedforward(test_data[2][0])\n",
        "print(a)\n",
        "print(np.argmax(a))\n",
        "print(test_data[2][1])\n",
        "\n",
        "# per digit accuracies\n",
        "correct_counts = [0 for _ in range(10)]\n",
        "digit_counts = [0 for _ in range(10)]\n",
        "\n",
        "for (x, y) in test_data:\n",
        "  a = np.argmax(net.feedforward(x))\n",
        "  if a == y:\n",
        "    correct_counts[y] += 1\n",
        "  digit_counts[y] += 1\n",
        "\n",
        "print(correct_counts)\n",
        "print(digit_counts)\n",
        "accuracies = [correct_counts[i]/digit_counts[i] for i in range(10)]\n",
        "print(accuracies)"
      ],
      "metadata": {
        "id": "bFDPJoEQ862T",
        "colab": {
          "base_uri": "https://localhost:8080/"
        },
        "outputId": "18665b60-3cc8-447c-a635-0db3d284d16c"
      },
      "execution_count": 6,
      "outputs": [
        {
          "output_type": "stream",
          "name": "stdout",
          "text": [
            "[[1.19397425e-09]\n",
            " [9.78076572e-01]\n",
            " [3.93049590e-06]\n",
            " [9.93494599e-06]\n",
            " [4.72239506e-06]\n",
            " [5.03911905e-05]\n",
            " [3.97414854e-04]\n",
            " [5.57388075e-05]\n",
            " [6.56592215e-03]\n",
            " [3.30269517e-07]]\n",
            "1\n",
            "1\n",
            "[952, 1105, 979, 939, 939, 805, 911, 978, 912, 891]\n",
            "[980, 1135, 1032, 1010, 982, 892, 958, 1028, 974, 1009]\n",
            "[0.9714285714285714, 0.973568281938326, 0.9486434108527132, 0.9297029702970298, 0.9562118126272913, 0.9024663677130045, 0.9509394572025052, 0.9513618677042801, 0.9363449691991786, 0.8830525272547076]\n"
          ]
        }
      ]
    },
    {
      "cell_type": "code",
      "source": [
        "\n",
        "#### my code\n",
        "import matplotlib.pyplot as plt\n",
        "import numpy as np\n",
        "from PIL import Image\n",
        "\n",
        "image_path = 'good5.png'\n",
        "image = Image.open(image_path).convert('L')\n",
        "\n",
        "#convert image to numpy array\n",
        "image_array = np.array(image)\n",
        "\n",
        "#assuming you have two images loades as\n",
        "\n",
        "fig, axs = plt.subplots(1, 2, figsize=(10, 5))\n",
        "\n",
        "\n",
        "\n",
        "axs[0].imshow(image_array, cmap='gray')\n",
        "axs[0].set_title(image_path)\n",
        "axs[0].axis('off')  #Hide axis for the figure\n",
        "\n",
        "axs[1].imshow(np.reshape(training_data[0][0],(28,28)), cmap='gray' )\n",
        "axs[0].set_title('training_data[0][0]')\n",
        "axs[0].axis('off')\n",
        "\n",
        "plt.show()\n",
        "image_array= image_array/255.0\n",
        "a0= net.feedforward(np.reshape(image_array,(784,1)))\n",
        "print(a0)\n"
      ],
      "metadata": {
        "id": "_5qm0n8t2pwZ",
        "colab": {
          "base_uri": "https://localhost:8080/",
          "height": 527
        },
        "outputId": "a3162459-759a-43af-d942-f0980a12bee8"
      },
      "execution_count": 34,
      "outputs": [
        {
          "output_type": "display_data",
          "data": {
            "text/plain": [
              "<Figure size 1000x500 with 2 Axes>"
            ],
            "image/png": "[encoded data removed]"
          },
          "metadata": {}
        },
        {
          "output_type": "stream",
          "name": "stdout",
          "text": [
            "[[6.06645830e-04]\n",
            " [4.05309711e-06]\n",
            " [6.94873953e-09]\n",
            " [8.08352666e-03]\n",
            " [2.76131753e-07]\n",
            " [5.31231514e-01]\n",
            " [2.72280468e-06]\n",
            " [3.14195692e-05]\n",
            " [3.62412207e-06]\n",
            " [1.38361941e-03]]\n"
          ]
        }
      ]
    },
    {
      "cell_type": "code",
      "source": [
        "import matplotlib.pyplot as plt\n",
        "fig = plt.figure(figsize = (10, 5))\n",
        " # creating the bar plot\n",
        "plt.bar(range(0,10), accuracies, color ='maroon',\n",
        "        width = 0.4)\n",
        "plt.xlabel(\"Digit\")\n",
        "plt.ylabel(\"Accuracy\")\n",
        "plt.title(\"Per digit accuracy for standard hyperparams\")\n",
        "plt.show()"
      ],
      "metadata": {
        "colab": {
          "base_uri": "https://localhost:8080/",
          "height": 366
        },
        "id": "TH_fAPuL86wl",
        "outputId": "3a2e3fe5-e8a9-4273-c912-a5e62d270713"
      },
      "execution_count": 7,
      "outputs": [
        {
          "output_type": "display_data",
          "data": {
            "text/plain": [
              "<Figure size 1000x500 with 1 Axes>"
            ],
            "image/png": "[encoded data removed]"
          },
          "metadata": {}
        }
      ]
    },
    {
      "cell_type": "code",
      "source": [
        "# Initialize counters\n",
        "good_correct = 0\n",
        "good_total = 0\n",
        "small_correct = 0\n",
        "small_total = 0\n",
        "large_correct = 0\n",
        "large_total = 0\n",
        "\n",
        "good_results = [0]*10\n",
        "small_results = [0]*10\n",
        "large_results = [0]*10\n",
        "\n",
        "# Evaluate each image\n",
        "for label, result in zip(labels, results):\n",
        "    true_digit = int(label[-1])  # Assuming last character of label indicates the true digit\n",
        "    predicted_digit = result\n",
        "\n",
        "    if \"good\" in label:\n",
        "        good_total += 1\n",
        "        if true_digit == predicted_digit:\n",
        "            good_correct += 1\n",
        "            good_results[true_digit] = 1\n",
        "\n",
        "    elif \"small\" in label:\n",
        "        small_total += 1\n",
        "        if true_digit == predicted_digit:\n",
        "            small_correct += 1\n",
        "            small_results[true_digit] = 1\n",
        "\n",
        "    elif \"big\" in label:\n",
        "        large_total += 1\n",
        "        if true_digit == predicted_digit:\n",
        "            large_correct += 1\n",
        "            large_results[true_digit] = 1\n",
        "\n",
        "# Print results\n",
        "print(f\"Good images correctly classified: {good_correct}/{good_total}\")\n",
        "print(f\"Small images correctly classified: {small_correct}/{small_total}\")\n",
        "print(f\"Large images correctly classified: {large_correct}/{large_total}\")\n",
        "\n",
        "# Print digit-wise results\n",
        "print(\"Good images per digit classification (0=incorrect, 1=correct):\", good_results)\n",
        "print(\"Small images per digit classification (0=incorrect, 1=correct):\", small_results)\n",
        "print(\"Large images per digit classification (0=incorrect, 1=correct):\", large_results)\n"
      ],
      "metadata": {
        "colab": {
          "base_uri": "https://localhost:8080/"
        },
        "id": "xMOdZM7z9Zvo",
        "outputId": "98ac1e67-9296-4d1d-b0bc-ec55a03569d1"
      },
      "execution_count": 35,
      "outputs": [
        {
          "output_type": "stream",
          "name": "stdout",
          "text": [
            "Good images correctly classified: 0/0\n",
            "Small images correctly classified: 0/0\n",
            "Large images correctly classified: 0/0\n",
            "Good images per digit classification (0=incorrect, 1=correct): [0, 0, 0, 0, 0, 0, 0, 0, 0, 0]\n",
            "Small images per digit classification (0=incorrect, 1=correct): [0, 0, 0, 0, 0, 0, 0, 0, 0, 0]\n",
            "Large images per digit classification (0=incorrect, 1=correct): [0, 0, 0, 0, 0, 0, 0, 0, 0, 0]\n"
          ]
        }
      ]
    }
  ]
}