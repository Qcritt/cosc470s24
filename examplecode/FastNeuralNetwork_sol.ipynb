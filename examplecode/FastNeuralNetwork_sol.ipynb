{
  "nbformat": 4,
  "nbformat_minor": 0,
  "metadata": {
    "colab": {
      "provenance": [],
      "include_colab_link": true
    },
    "kernelspec": {
      "name": "python3",
      "display_name": "Python 3"
    },
    "language_info": {
      "name": "python"
    }
  },
  "cells": [
    {
      "cell_type": "markdown",
      "metadata": {
        "id": "view-in-github",
        "colab_type": "text"
      },
      "source": [
        "<a href=\"https://colab.research.google.com/github/Qcritt/cosc470s24/blob/main/examplecode/FastNeuralNetwork_sol.ipynb\" target=\"_parent\"><img src=\"https://colab.research.google.com/assets/colab-badge.svg\" alt=\"Open In Colab\"/></a>"
      ]
    },
    {
      "cell_type": "markdown",
      "source": [
        "The **Hello, world** of neural networks\n",
        "This code builds a simple neural network that can recognize handwritten 28x28 pixel digits.\n",
        "\n",
        "Our first version will have 15 neurons in the hidden layer and 10 output neurons.\n",
        "\n",
        "See image below:\n",
        "http://neuralnetworksanddeeplearning.com/images/tikz12.png\n",
        "\n",
        "How many weights in this network?\n",
        "11760 weights in the first layer (784 * 15) and 150 weights in the second layer (15 * 10) = 11910 weights total\n",
        "15 biases in the hidden layer and 10 biases in the output layer = 25 biases total.\n",
        "11910 + 25 = 11935 parameters!"
      ],
      "metadata": {
        "id": "X6OTVSJZLxzO"
      }
    },
    {
      "cell_type": "code",
      "execution_count": 93,
      "metadata": {
        "id": "NQQ0yjJ6LUBN",
        "colab": {
          "base_uri": "https://localhost:8080/"
        },
        "outputId": "000a1117-36f4-4c1d-8d87-64bd90ee1b5b"
      },
      "outputs": [
        {
          "output_type": "stream",
          "name": "stdout",
          "text": [
            "Cloning into 'nn'...\n",
            "remote: Enumerating objects: 63, done.\u001b[K\n",
            "remote: Counting objects:  12% (1/8)\u001b[K\rremote: Counting objects:  25% (2/8)\u001b[K\rremote: Counting objects:  37% (3/8)\u001b[K\rremote: Counting objects:  50% (4/8)\u001b[K\rremote: Counting objects:  62% (5/8)\u001b[K\rremote: Counting objects:  75% (6/8)\u001b[K\rremote: Counting objects:  87% (7/8)\u001b[K\rremote: Counting objects: 100% (8/8)\u001b[K\rremote: Counting objects: 100% (8/8), done.\u001b[K\n",
            "remote: Compressing objects: 100% (8/8), done.\u001b[K\n",
            "remote: Total 63 (delta 1), reused 3 (delta 0), pack-reused 55\u001b[K\n",
            "Receiving objects: 100% (63/63), 16.43 MiB | 35.73 MiB/s, done.\n",
            "Resolving deltas: 100% (28/28), done.\n",
            "/content/nn/nn/nn/nn/nn/nn/nn\n"
          ]
        }
      ],
      "source": [
        "!git clone https://github.com/MichalDanielDobrzanski/DeepLearningPython nn\n",
        "%cd nn"
      ]
    },
    {
      "cell_type": "code",
      "source": [
        "# this code depends on having executed the previous cell\n",
        "# (i.e., you need to have cloned the nn code and cd'ed into it)\n",
        "import network\n",
        "import mnist_loader\n",
        "training_data, validation_data, test_data = mnist_loader.load_data_wrapper()\n",
        "training_data = list(training_data)\n"
      ],
      "metadata": {
        "id": "TY_GaewAIO1z"
      },
      "execution_count": 94,
      "outputs": []
    },
    {
      "cell_type": "code",
      "source": [
        "import numpy as np\n",
        "print(np.shape(training_data))\n",
        "print(np.shape(training_data[0][0]))\n",
        "print(np.shape(training_data[0][1]))\n",
        "print(training_data[0][1])"
      ],
      "metadata": {
        "colab": {
          "base_uri": "https://localhost:8080/"
        },
        "id": "5OCPyJhtQYtc",
        "outputId": "2a772d44-dcd3-4543-8caf-a19b734196eb"
      },
      "execution_count": 95,
      "outputs": [
        {
          "output_type": "stream",
          "name": "stdout",
          "text": [
            "(50000, 2)\n",
            "(784, 1)\n",
            "(10, 1)\n",
            "[[0.]\n",
            " [0.]\n",
            " [0.]\n",
            " [0.]\n",
            " [0.]\n",
            " [1.]\n",
            " [0.]\n",
            " [0.]\n",
            " [0.]\n",
            " [0.]]\n"
          ]
        },
        {
          "output_type": "stream",
          "name": "stderr",
          "text": [
            "/usr/local/lib/python3.10/dist-packages/numpy/core/fromnumeric.py:2009: VisibleDeprecationWarning: Creating an ndarray from ragged nested sequences (which is a list-or-tuple of lists-or-tuples-or ndarrays with different lengths or shapes) is deprecated. If you meant to do this, you must specify 'dtype=object' when creating the ndarray.\n",
            "  result = asarray(a).shape\n"
          ]
        }
      ]
    },
    {
      "cell_type": "code",
      "source": [
        "# average digit darkness\n",
        "# step 1 - write a function that can calculate the darkness of a single image\n",
        "def image_darkness(imgpixeldata):\n",
        "  darkness_total = 0\n",
        "  for x in imgpixeldata:\n",
        "    darkness_total = darkness_total + x\n",
        "  return darkness_total[0]\n",
        "\n",
        "# step 2 - call that function on all the training images and calculate the average darkness of each digit\n",
        "darkness = image_darkness(training_data[0][0])\n",
        "whichimage = np.argmax(training_data[0][1])\n",
        "print(f\"The first image was a {whichimage} and its darkness was {darkness}\")\n",
        "darkness = image_darkness(training_data[1][0])\n",
        "whichimage = np.argmax(training_data[1][1])\n",
        "print(f\"The second image was a {whichimage} and its darkness was {darkness}\")\n",
        "\n",
        "# define a 10-element list of darkness totals\n",
        "darkness_totals = [0 for _ in range(10)]\n",
        "# define a 10-elment list of digit counts\n",
        "darkness_counts = [0 for _ in range(10)]\n",
        "\n",
        "# ANSWER - There will be 10 total darknesses because we are looking for the darkness of each digit\n",
        "\n",
        "# iterate through each image and update the two data structures\n",
        "for training_img in training_data:\n",
        "  darkness = 0 # replace this with the correct function call!\n",
        "  whichimage = np.argmax(training_img[1])\n",
        "  darkness_counts[whichimage] += 1\n",
        "\n",
        "# now calculate the averages\n",
        "darkness_averages = [darkness_totals[i]/darkness_counts[i] for i in range(10)]\n",
        "\n",
        "print(darkness_counts)\n",
        "print(darkness_averages)\n",
        "\n",
        "# step 3 - use those averages to classify all the test data images and count how many of each digit you get right\n",
        "def find_closest(darkness, darkness_averages):\n",
        "  # add code here that determines which average was closest to darkness\n",
        "  return 0\n",
        "\n",
        "correct_counts = [0 for _ in range(10)]\n",
        "wrong_counts = [0 for _ in range(10)]\n",
        "\n",
        "for imgdata, whichimage in test_data:\n",
        "  darkness = image_darkness(imgdata)\n",
        "  # see which darkness_average is closest to \"darkness\" and make that our classification for this image\n",
        "  closest_digit = find_closest(darkness, darkness_averages)\n",
        "  if closest_digit == whichimage:\n",
        "    correct_counts[whichimage] += 1\n",
        "  else:\n",
        "    wrong_counts[whichimage] += 1\n",
        "\n",
        "# now that we have our correct/wrong counts, turn that into accuracies\n",
        "digit_accuracies = [correct_counts[i]/(correct_counts[i]+wrong_counts[i]) for i in range(10)]\n",
        "print(digit_accuracies)"
      ],
      "metadata": {
        "colab": {
          "base_uri": "https://localhost:8080/"
        },
        "id": "xiMrbkucJPL9",
        "outputId": "7c7fb638-5408-4a1f-c93d-6ce107577dcb"
      },
      "execution_count": 78,
      "outputs": [
        {
          "output_type": "stream",
          "name": "stdout",
          "text": [
            "The first image was a 5 and its darkness was 107.51953125\n",
            "The second image was a 0 and its darkness was 121.46484375\n",
            "[4932, 5678, 4968, 5101, 4859, 4506, 4951, 5175, 4842, 4988]\n",
            "[0.0, 0.0, 0.0, 0.0, 0.0, 0.0, 0.0, 0.0, 0.0, 0.0]\n",
            "[1.0, 0.0, 0.0, 0.0, 0.0, 0.0, 0.0, 0.0, 0.0, 0.0]\n"
          ]
        }
      ]
    },
    {
      "cell_type": "code",
      "source": [
        "list_test_data = list(test_data)\n",
        "print(np.shape(list_test_data[0]))\n",
        "print(np.shape(list_test_data[0][1]))\n",
        "print(list_test_data[0][1])"
      ],
      "metadata": {
        "colab": {
          "base_uri": "https://localhost:8080/"
        },
        "id": "vRcQD33wRB1c",
        "outputId": "a803d64c-0719-46d2-91fa-fcc357a0fa8b"
      },
      "execution_count": 89,
      "outputs": [
        {
          "output_type": "stream",
          "name": "stdout",
          "text": [
            "(2,)\n",
            "()\n",
            "7\n"
          ]
        }
      ]
    },
    {
      "cell_type": "code",
      "source": [
        "#part 2 - use this defualt configuration and the following hyper-parameeters\n",
        "#epochs - 30\n",
        "# batch size = 10\n",
        "# learning rate - 3.0\n",
        "net = network.Network([784, 30, 10])\n",
        "net.SGD(training_data, 30, 10, 3.0, test_data=test_data)\n"
      ],
      "metadata": {
        "colab": {
          "base_uri": "https://localhost:8080/"
        },
        "id": "Vo505L-XfwcU",
        "outputId": "20bf52ef-040b-4177-fe9c-afa647369f43"
      },
      "execution_count": 51,
      "outputs": [
        {
          "output_type": "stream",
          "name": "stdout",
          "text": [
            "Epoch 0 complete\n",
            "Epoch 1 complete\n",
            "Epoch 2 complete\n",
            "Epoch 3 complete\n",
            "Epoch 4 complete\n",
            "Epoch 5 complete\n",
            "Epoch 6 complete\n",
            "Epoch 7 complete\n",
            "Epoch 8 complete\n",
            "Epoch 9 complete\n",
            "Epoch 10 complete\n",
            "Epoch 11 complete\n",
            "Epoch 12 complete\n",
            "Epoch 13 complete\n",
            "Epoch 14 complete\n",
            "Epoch 15 complete\n",
            "Epoch 16 complete\n",
            "Epoch 17 complete\n",
            "Epoch 18 complete\n",
            "Epoch 19 complete\n",
            "Epoch 20 complete\n",
            "Epoch 21 complete\n",
            "Epoch 22 complete\n",
            "Epoch 23 complete\n",
            "Epoch 25 complete\n",
            "Epoch 26 complete\n",
            "Epoch 27 complete\n",
            "Epoch 28 complete\n",
            "Epoch 29 complete\n"
          ]
        }
      ]
    },
    {
      "cell_type": "code",
      "source": [
        "a = net.feedforward(list(test_data)[0][0])\n",
        "print(a)\n",
        "print(np.argmax(a))\n",
        "print(list(test_data[0][1]))\n",
        "\n",
        "# per digit accuracies\n",
        "# loop through the test data again\n",
        "#calculate  how many of each digit was classified correctly\n",
        "correct_counts = [0 for _ in range(10)]\n",
        "digit_counts = [0 for _ in range(10)]\n",
        "\n",
        "for (x,y) in test_data:\n",
        "  a = np.argmax(net.feedforward(x))\n",
        "  if a == y:\n",
        "    correct_counts[y] += 1\n",
        "  digit_counts[y] += 1\n",
        "\n",
        "print(correct_counts)\n",
        "print(digit_counts)"
      ],
      "metadata": {
        "colab": {
          "base_uri": "https://localhost:8080/",
          "height": 280
        },
        "id": "SD2GayvS4rSs",
        "outputId": "48cfe216-2aeb-4ce8-efee-ac10620a2ddc"
      },
      "execution_count": 114,
      "outputs": [
        {
          "output_type": "error",
          "ename": "IndexError",
          "evalue": "list index out of range",
          "traceback": [
            "\u001b[0;31m---------------------------------------------------------------------------\u001b[0m",
            "\u001b[0;31mIndexError\u001b[0m                                Traceback (most recent call last)",
            "\u001b[0;32m<ipython-input-114-ae5a077a1aa9>\u001b[0m in \u001b[0;36m<cell line: 1>\u001b[0;34m()\u001b[0m\n\u001b[0;32m----> 1\u001b[0;31m \u001b[0ma\u001b[0m \u001b[0;34m=\u001b[0m \u001b[0mnet\u001b[0m\u001b[0;34m.\u001b[0m\u001b[0mfeedforward\u001b[0m\u001b[0;34m(\u001b[0m\u001b[0mlist\u001b[0m\u001b[0;34m(\u001b[0m\u001b[0mtest_data\u001b[0m\u001b[0;34m)\u001b[0m\u001b[0;34m[\u001b[0m\u001b[0;36m0\u001b[0m\u001b[0;34m]\u001b[0m\u001b[0;34m[\u001b[0m\u001b[0;36m0\u001b[0m\u001b[0;34m]\u001b[0m\u001b[0;34m)\u001b[0m\u001b[0;34m\u001b[0m\u001b[0;34m\u001b[0m\u001b[0m\n\u001b[0m\u001b[1;32m      2\u001b[0m \u001b[0mprint\u001b[0m\u001b[0;34m(\u001b[0m\u001b[0ma\u001b[0m\u001b[0;34m)\u001b[0m\u001b[0;34m\u001b[0m\u001b[0;34m\u001b[0m\u001b[0m\n\u001b[1;32m      3\u001b[0m \u001b[0mprint\u001b[0m\u001b[0;34m(\u001b[0m\u001b[0mnp\u001b[0m\u001b[0;34m.\u001b[0m\u001b[0margmax\u001b[0m\u001b[0;34m(\u001b[0m\u001b[0ma\u001b[0m\u001b[0;34m)\u001b[0m\u001b[0;34m)\u001b[0m\u001b[0;34m\u001b[0m\u001b[0;34m\u001b[0m\u001b[0m\n\u001b[1;32m      4\u001b[0m \u001b[0mprint\u001b[0m\u001b[0;34m(\u001b[0m\u001b[0mlist\u001b[0m\u001b[0;34m(\u001b[0m\u001b[0mtest_data\u001b[0m\u001b[0;34m[\u001b[0m\u001b[0;36m0\u001b[0m\u001b[0;34m]\u001b[0m\u001b[0;34m[\u001b[0m\u001b[0;36m1\u001b[0m\u001b[0;34m]\u001b[0m\u001b[0;34m)\u001b[0m\u001b[0;34m)\u001b[0m\u001b[0;34m\u001b[0m\u001b[0;34m\u001b[0m\u001b[0m\n\u001b[1;32m      5\u001b[0m \u001b[0;34m\u001b[0m\u001b[0m\n",
            "\u001b[0;31mIndexError\u001b[0m: list index out of range"
          ]
        }
      ]
    },
    {
      "cell_type": "code",
      "source": [
        "import matplotlib.pyplot as plt  #matrix plotting library is what matplotlib represents\n",
        "fig = plt.figure(figsize = (10,5))\n",
        "# creating the bar plot\n",
        "plt.bar(range(0,10), accuracies, color ='maroon', width = 0.4)\n",
        "plt.xlabel(\"Digit\")\n",
        "plt.ylabel(\"Accuracy\")\n",
        "plt.title(\"Per digit accuracy for standard hyperparams\")\n",
        "plt.show()"
      ],
      "metadata": {
        "id": "dnbJrievKsOx"
      },
      "execution_count": null,
      "outputs": []
    },
    {
      "cell_type": "code",
      "source": [
        "print(np.shape(net.weights[0]))\n",
        "print(net.weights[0])"
      ],
      "metadata": {
        "colab": {
          "base_uri": "https://localhost:8080/"
        },
        "id": "ksAzdDrgqBfw",
        "outputId": "3997bfa6-8149-4835-f631-33fbe0c5a69e"
      },
      "execution_count": 45,
      "outputs": [
        {
          "output_type": "stream",
          "name": "stdout",
          "text": [
            "(30, 784)\n",
            "[[ 1.16064105  0.3239518   0.77780937 ... -0.24680934 -0.16480644\n",
            "   0.54464316]\n",
            " [-0.71494643 -0.80941064 -0.80727404 ...  0.13342896  0.16943928\n",
            "  -1.41217218]\n",
            " [-0.38557767 -0.7282796   0.58599577 ... -0.5348472   0.01986796\n",
            "   1.4839439 ]\n",
            " ...\n",
            " [-0.90078748  0.39264815  0.86489593 ... -0.01672657 -1.18433746\n",
            "  -0.95719028]\n",
            " [-0.88329274  0.78738297  2.38750257 ...  0.1827087   0.31115492\n",
            "   0.62325391]\n",
            " [-0.65070619 -0.32859789 -1.20567891 ...  0.1853069  -1.87770149\n",
            "  -0.26288034]]\n"
          ]
        }
      ]
    },
    {
      "cell_type": "code",
      "source": [
        "print(np.shape(net.weights[1]))\n",
        "print(net.weights[1])"
      ],
      "metadata": {
        "colab": {
          "base_uri": "https://localhost:8080/"
        },
        "id": "thCtnAGfqJ_v",
        "outputId": "0adb97f3-1bbe-4d46-f2ac-c9820a5f9811"
      },
      "execution_count": 46,
      "outputs": [
        {
          "output_type": "stream",
          "name": "stdout",
          "text": [
            "(10, 30)\n",
            "[[-1.24912069e+00  2.04997609e+00  1.08830322e+00 -2.76174977e+00\n",
            "   2.95247414e+00  1.94509525e+00 -1.11049357e+00 -3.80988612e+00\n",
            "  -1.12626010e+00  2.77866804e+00  3.67159344e+00  3.28743227e+00\n",
            "  -7.07150955e+00  4.52727027e+00  1.03283527e-01  5.98942105e-01\n",
            "  -5.55774301e+00 -4.53489135e+00 -3.10403521e-01 -2.21973084e+00\n",
            "   1.37770527e+00  3.16253755e+00 -3.41210655e+00 -2.12116564e+00\n",
            "   1.03337942e+00 -2.53287662e+00  5.28242686e-01  1.88579415e+00\n",
            "  -5.43991164e+00 -2.89029410e+00]\n",
            " [-1.58633960e+00 -4.46888813e+00 -4.46525691e+00  7.84041210e+00\n",
            "  -3.08419923e+00 -1.21183890e+00 -3.45610001e+00 -2.54507484e+00\n",
            "  -4.07074573e+00 -2.25986942e+00  2.75036025e+00  1.22018636e+00\n",
            "   1.21715407e+00 -1.86869014e+00  2.08964377e+00 -3.03561209e+00\n",
            "   1.43162252e+00 -3.60314873e-01  8.45091854e-02 -6.22003947e-01\n",
            "  -2.18020762e+00 -5.70362783e+00  1.45294100e+00  1.01655035e+00\n",
            "  -1.82106463e+00  1.64645946e+00 -1.18226385e+00  1.63674818e+00\n",
            "   9.03650530e-01  4.80623870e-01]\n",
            " [ 1.39748456e-01 -3.55821065e+00 -1.97113304e+00  5.23045465e-01\n",
            "   4.27812199e+00  2.36021449e+00  3.76873956e-01  1.17588692e+00\n",
            "   6.07560901e+00  6.07410769e-01 -4.72246568e-01  6.54779228e+00\n",
            "  -9.08013418e+00  1.60488270e+00 -1.67523276e+00 -3.24874532e-01\n",
            "   1.48495322e+00  2.96743750e+00 -2.21470351e+00 -1.85765087e-01\n",
            "  -1.42888602e+00  3.80244115e+00 -5.48931184e-01  3.27723499e+00\n",
            "   1.31553913e-03  8.63983591e-01 -2.66768274e+00  2.25359774e+00\n",
            "   3.75334974e+00 -2.06775550e+00]\n",
            " [ 5.43751872e+00 -7.31843132e-01 -3.46433459e+00 -4.34854089e+00\n",
            "   3.21593542e+00 -4.24616503e+00 -2.53759205e+00 -4.29696974e+00\n",
            "  -6.18686576e+00  5.06075581e+00  1.12329193e+00 -7.47657686e-01\n",
            "  -3.16065215e+00 -4.78578624e+00  2.56959683e+00  1.47657607e+00\n",
            "   1.91228098e+00 -2.42333620e+00 -8.69866077e-01  6.94906377e-01\n",
            "   3.29815772e-02  5.10167318e+00  3.26085345e+00 -1.35930884e+00\n",
            "  -1.94465228e+00 -3.70614463e+00 -7.18443735e+00 -3.03630014e+00\n",
            "   1.03700576e+00 -1.08516282e+00]\n",
            " [-7.14847202e-01  1.88282304e+00 -1.82950966e+00 -2.66060407e-01\n",
            "  -2.70151457e+00 -5.85806110e-02  6.22958152e+00  1.58957715e+00\n",
            "  -5.01422925e-01 -9.66343532e-01 -1.83375102e-01 -5.56288466e+00\n",
            "  -6.76937043e+00 -7.78882219e-01  1.39213913e+00  4.09280219e+00\n",
            "  -2.85062256e+00 -1.17018199e+00  5.15534584e+00  4.23171823e+00\n",
            "  -5.95623018e+00  1.05725653e+00  7.64981462e-02  3.55189778e+00\n",
            "  -6.12741937e+00 -4.38255202e+00 -5.23226821e-01 -4.47317038e+00\n",
            "  -1.54127702e+00 -4.57881553e+00]\n",
            " [-6.79461096e+00 -3.45750942e+00  1.01848735e+00 -3.38397293e+00\n",
            "  -5.22891626e+00 -3.97838375e+00 -7.76534093e-01  2.32699379e-01\n",
            "  -3.39190794e-01  8.76686401e+00 -2.50846515e-01  4.88643070e+00\n",
            "  -4.76554148e+00 -4.52770708e+00  2.60230280e+00  4.59173318e-01\n",
            "   4.14800169e-01  3.14403361e+00  3.30216307e+00 -7.19761183e-01\n",
            "  -8.40996121e-01 -5.33022780e+00 -4.07929397e+00  3.98780070e-01\n",
            "   9.65140202e-01 -7.97496719e-01  8.57592079e+00 -2.89023907e+00\n",
            "   5.98098685e+00  2.16294063e+00]\n",
            " [-1.00608771e+00  3.48157144e+00  2.52532842e+00  4.02555782e+00\n",
            "  -4.50187686e+00  1.34094419e+00  6.51087327e-01 -2.13114807e+00\n",
            "   4.49054414e-01 -2.45675922e+00  4.00193502e-01 -2.73722517e+00\n",
            "  -8.04807376e+00  4.53165876e+00 -1.40696925e+00  8.89003302e-01\n",
            "   3.83109371e+00 -1.28280230e+00 -2.33419641e+00 -2.85020645e-01\n",
            "  -3.45717424e+00 -5.53221880e-01  1.47901756e-01 -4.07181617e+00\n",
            "  -1.78687724e+00 -2.98342137e+00  1.80108204e+00  4.53426314e+00\n",
            "   1.70936676e+00  5.36246690e+00]\n",
            " [-6.67470350e-01  2.08308180e+00 -2.69561419e+00 -7.22234873e-01\n",
            "   3.82357287e+00  3.64808278e+00  5.68398584e-01  1.84563780e+00\n",
            "  -5.00849744e+00 -3.12447701e+00 -5.11928629e+00 -3.34495970e+00\n",
            "  -6.08960538e-01  5.62530249e-01 -6.72610279e-01 -9.30764238e-01\n",
            "   1.43792750e+00  5.17511605e-01 -1.76381356e+00 -6.82174126e+00\n",
            "   1.37811853e+00  1.21093543e+00  2.54226331e+00 -2.51201105e+00\n",
            "  -1.38770666e+00  6.67838118e+00  7.95571027e-01 -7.52896234e+00\n",
            "  -1.58263460e+00  3.35314384e+00]\n",
            " [ 3.88322511e+00  6.09640073e+00 -2.02176997e-01 -3.54197745e+00\n",
            "  -4.15153209e+00 -2.82139647e+00 -8.18656566e+00  3.26517474e+00\n",
            "  -1.15511938e+00 -3.30208997e+00 -4.31785474e+00 -8.53875784e-01\n",
            "  -7.52921796e+00  5.25244709e+00 -4.16541369e+00 -2.86070351e-01\n",
            "  -1.90867188e+00 -2.45537131e+00 -2.18137128e+00  4.20077241e+00\n",
            "  -4.93527627e-01  9.31209044e-01 -1.77940453e+00  3.28797242e+00\n",
            "   7.42306425e-02 -6.08700247e+00 -7.66072581e-01  4.54124219e+00\n",
            "  -3.32655867e-01 -1.54899975e+00]\n",
            " [ 1.57438941e+00 -3.20584682e+00  3.41595555e+00 -1.04633226e-01\n",
            "  -4.41687021e+00 -8.13482202e-01  7.96531557e+00 -1.77008079e+00\n",
            "   1.33565638e+00 -5.56978651e+00 -6.97909233e-01 -2.37887042e+00\n",
            "  -4.08570635e+00  4.11464606e-01 -6.73789803e-02 -4.66659394e+00\n",
            "  -1.77155417e+00 -3.02628358e+00 -5.06996829e+00  8.31394745e+00\n",
            "   4.12862542e+00 -3.00791054e+00  4.89272782e-01 -1.20050845e+00\n",
            "   4.76086504e+00 -6.69132868e+00 -1.13651079e-01 -1.82797819e+00\n",
            "  -2.81566556e+00 -1.37382936e+00]]\n"
          ]
        }
      ]
    },
    {
      "cell_type": "code",
      "source": [
        "\n",
        "net = network.Network([784, 30, 10])\n",
        "net.SGD(training_data, 5, 10, 3.0, test_data=test_data)"
      ],
      "metadata": {
        "colab": {
          "base_uri": "https://localhost:8080/"
        },
        "id": "V3qm9cgIQ2rh",
        "outputId": "da829c50-034c-43a0-a3a7-3ce5834271cb"
      },
      "execution_count": 12,
      "outputs": [
        {
          "output_type": "stream",
          "name": "stdout",
          "text": [
            "Epoch 0 complete\n",
            "Epoch 1 complete\n",
            "Epoch 2 complete\n",
            "Epoch 3 complete\n",
            "Epoch 4 complete\n"
          ]
        }
      ]
    },
    {
      "cell_type": "code",
      "source": [
        "print(np.shape(net.weights[0]))\n",
        "print(net.weights[0])"
      ],
      "metadata": {
        "colab": {
          "base_uri": "https://localhost:8080/"
        },
        "id": "-adILgnNKqe9",
        "outputId": "6a4a2bf6-9bcf-4532-d093-f897b1cdee17"
      },
      "execution_count": null,
      "outputs": [
        {
          "output_type": "stream",
          "name": "stdout",
          "text": [
            "(30, 784)\n",
            "[[ 0.45745312 -0.43668441  0.06388325 ... -0.01876614  0.69747384\n",
            "   1.75032045]\n",
            " [ 0.31008606 -1.31462574 -0.95998785 ...  2.07556124 -0.23319521\n",
            "  -0.5521895 ]\n",
            " [ 2.62684071  0.59619412  0.75105954 ...  0.39065436  0.21883096\n",
            "  -0.15008028]\n",
            " ...\n",
            " [ 0.12553374  1.12652397 -0.19640291 ... -1.06957326 -0.38014393\n",
            "   2.12662076]\n",
            " [-0.33401933 -0.27315002 -0.64691649 ...  0.57483904 -1.0439243\n",
            "  -0.26700133]\n",
            " [-2.64108907  0.69231545 -1.57468679 ... -0.20718688  0.5363602\n",
            "   0.16273624]]\n"
          ]
        }
      ]
    },
    {
      "cell_type": "code",
      "source": [
        "print(np.shape(net.weights[1]))\n",
        "print(net.weights[1])"
      ],
      "metadata": {
        "colab": {
          "base_uri": "https://localhost:8080/"
        },
        "id": "3HFpBqj4MJWh",
        "outputId": "57caf5da-b1f7-4e9d-9ad3-ef408720f14c"
      },
      "execution_count": null,
      "outputs": [
        {
          "output_type": "stream",
          "name": "stdout",
          "text": [
            "(10, 30)\n",
            "[[ 8.92742895e-02 -9.53000886e-01 -4.57105149e-01  8.12327680e-01\n",
            "  -1.66712716e+00 -3.52723344e+00  2.43366417e+00 -1.17334118e+00\n",
            "   8.58573096e-01 -6.38617216e-01 -3.98845904e+00  2.60882754e+00\n",
            "  -3.45033814e+00 -4.68697776e+00 -2.93102636e-02 -2.10035207e+00\n",
            "  -1.34230789e+00 -6.94064697e-01 -1.19457306e+00 -2.29509311e+00\n",
            "   3.69451831e+00 -5.47055566e-01  2.43794816e+00 -1.72272752e+00\n",
            "   2.40744671e-01  1.47444250e+00 -1.05438717e+00 -1.86542911e+00\n",
            "  -1.06224867e-01 -2.56395561e+00]\n",
            " [-7.34977609e-01  4.91942640e+00 -1.66675986e+00  1.59401840e+00\n",
            "  -2.16068409e+00 -1.51479916e+00 -1.24537721e+00 -1.68016775e+00\n",
            "   3.37529651e+00 -2.55192130e-01 -6.61492715e-01 -1.81183859e+00\n",
            "   1.68476200e+00 -3.24190509e-01  1.90014317e+00  1.24494728e+00\n",
            "  -4.40024242e+00 -1.63853095e+00 -2.36185595e+00 -8.24469577e-01\n",
            "  -1.22617148e+00 -2.62641360e-01 -3.39598402e+00  1.40744340e+00\n",
            "  -1.83806995e+00 -7.40020693e-01 -1.30620128e+00  1.84904317e+00\n",
            "  -2.15747635e+00  7.20940625e-01]\n",
            " [-2.00012804e+00 -4.47340735e+00 -4.10174465e+00 -1.68728779e+00\n",
            "   3.43772417e+00 -4.39950291e-01 -1.01861013e+00 -1.74087284e+00\n",
            "   7.41972442e-02 -8.48880992e-01  4.49429179e+00 -1.45266742e-01\n",
            "   2.28981194e-01 -1.06400163e+00  1.28358135e-01 -4.45025880e-01\n",
            "   3.70791508e+00  3.96636741e+00 -2.03563838e-01 -6.90680217e-01\n",
            "   2.41501699e+00 -1.15948931e-01 -1.40933711e+00 -3.72756080e+00\n",
            "  -1.90351878e-01 -3.71988276e+00 -6.79415949e-01  1.33284971e+00\n",
            "  -5.86751686e-01 -1.42186576e+00]\n",
            " [-4.18101663e-01 -2.50447025e+00 -3.02191066e+00  1.41234487e+00\n",
            "  -4.01669888e+00 -2.69785880e+00 -8.29362445e-01 -2.43272368e+00\n",
            "  -3.86044611e-01 -2.85263101e+00 -3.29467569e+00 -3.41481050e-01\n",
            "   2.71501806e+00 -2.29385737e+00  8.79398988e-01 -1.75464854e+00\n",
            "  -2.30497351e+00  9.86450861e-01 -1.18941539e+00 -1.16876046e+00\n",
            "  -8.93726695e-01  3.90050146e+00  2.94085851e+00 -4.21461821e-02\n",
            "   5.32335035e-01 -2.16850322e+00  6.16172737e-01 -4.05100206e+00\n",
            "   2.64849537e+00  1.56793737e+00]\n",
            " [-9.17653922e-01 -1.00802682e+00 -3.65312486e+00 -3.90210282e+00\n",
            "  -2.29327302e-01  4.05186621e-01 -3.18877517e+00 -1.99022206e+00\n",
            "   1.51054720e-01 -1.66392733e+00 -2.09729103e+00 -5.25586219e-01\n",
            "  -5.20284622e-01  2.61502813e+00 -3.25039055e+00  1.46046528e+00\n",
            "   3.76739124e+00 -3.03391933e+00 -3.53032121e-01 -5.34518095e-01\n",
            "  -1.08687647e-01 -7.35724755e-01  1.14390141e+00  1.05804900e+00\n",
            "  -3.34164843e+00  1.63080569e+00  3.89588836e+00 -8.99061862e-01\n",
            "  -1.40549484e+00 -2.32085595e-01]\n",
            " [-1.03328631e+00  3.34376068e+00  3.60285980e+00  5.56451858e-01\n",
            "  -8.65820241e-01 -1.09510971e+00  3.07523834e+00 -1.95987557e+00\n",
            "  -1.25298293e+00 -3.93983129e-01 -1.44935177e+00 -3.61714302e+00\n",
            "   2.01144533e-02 -5.33158688e+00  5.35539464e-01 -1.47653258e+00\n",
            "   6.20889810e-01 -1.40685242e+00  4.04232082e+00 -1.51368773e+00\n",
            "  -4.17711321e+00 -4.03599404e+00  4.40225121e+00 -2.11172400e-01\n",
            "   6.38339827e-02 -1.84424763e+00  1.03687781e+00  2.37897849e+00\n",
            "  -1.10809541e+00  9.67634236e-01]\n",
            " [-1.22371331e+00  1.37318649e+00  2.71276273e+00 -2.15041528e+00\n",
            "   3.21383950e-01 -2.71869063e+00  3.94921657e-01 -1.27825896e+00\n",
            "   2.28445009e-03 -6.16066817e-01 -1.77951603e+00  1.56331490e+00\n",
            "  -2.26006321e+00 -1.02226130e+00  1.85657267e+00  4.30641211e-01\n",
            "   2.50151375e+00 -3.31310770e+00 -2.06502365e+00 -1.07969494e-02\n",
            "  -3.39372707e+00  5.33150530e-01 -3.38128344e+00  1.74361095e-01\n",
            "  -2.41709300e+00  3.14927453e+00 -2.66560783e+00  5.09995711e-01\n",
            "   3.47402559e+00  6.44723852e-01]\n",
            " [-2.48627095e+00 -2.40938054e+00  1.44118432e+00  2.79049519e+00\n",
            "  -9.10278015e-01 -2.77751420e+00  2.63801414e+00 -1.45492172e+00\n",
            "   4.00722640e-01 -2.54017339e+00  3.07145142e+00  7.54990107e-01\n",
            "  -1.57816555e+00  4.08462327e+00 -2.05403872e+00  2.38750335e+00\n",
            "  -3.45930967e+00  2.56703314e+00 -9.73175190e-01  4.10319298e+00\n",
            "  -1.98854597e+00  1.03567255e-01 -8.31604676e-01  2.11078434e+00\n",
            "   2.04922803e+00  9.57182903e-01 -1.81887399e-01 -1.25903832e+00\n",
            "  -1.33443349e+00  5.50848083e-01]\n",
            " [-1.59011146e+00 -5.34624273e+00 -1.32440591e+00 -1.43442281e+00\n",
            "  -2.29484305e+00 -1.08982094e+00 -3.13650262e+00 -1.58035769e+00\n",
            "  -1.06488037e+00 -2.51596518e+00 -3.80749591e+00 -1.18494061e+00\n",
            "  -1.19738445e+00 -4.88158965e+00 -1.61347539e+00 -4.50613280e-01\n",
            "  -2.98104180e+00  2.21987472e+00 -2.58350937e+00 -1.46863950e+00\n",
            "  -1.73899017e+00  2.92572486e+00  2.05611135e+00 -8.33708654e-01\n",
            "  -1.75415213e+00  4.50040620e+00 -2.38888609e+00  3.05996226e+00\n",
            "   1.14483019e-01 -5.69051989e-01]\n",
            " [-3.35494817e-01 -1.15751783e+00  4.69932505e-01 -2.42028830e+00\n",
            "   1.51160236e+00 -2.94847505e+00 -4.38294934e+00 -1.72638771e-01\n",
            "   3.84377828e-02  1.33792576e-01 -3.57153375e+00 -5.24149721e-01\n",
            "   1.62115319e+00  3.70121749e+00 -2.68199894e+00 -2.63721235e+00\n",
            "  -4.17352569e+00 -3.64960149e+00  1.25767855e+00 -2.27862889e+00\n",
            "  -1.46015076e-01 -5.39513304e-01  9.45921480e-01  1.81308219e-01\n",
            "   2.63970026e+00  1.59764859e+00 -4.73119070e+00 -3.05762700e-02\n",
            "   6.27531560e-02 -1.61423528e+00]]\n"
          ]
        }
      ]
    },
    {
      "cell_type": "code",
      "source": [
        "net = network.Network([784, 30, 10])\n",
        "net.SGD(training_data, 5, 10, 3.0, test_data=test_data)"
      ],
      "metadata": {
        "id": "8t2DgRVjBC-S"
      },
      "execution_count": null,
      "outputs": []
    },
    {
      "cell_type": "code",
      "source": [
        "# part 3 - experiment with different  hyper parameters\n",
        "#epochs - 5, 15, 30, 60 (Batch size 10, learning 3.0)\n",
        "#batch - 5, 10, 50, 100 (epochs 30, learning data)\n",
        "#learning rate - 1.0, 3.0, 5.0 (epochs 30, batch size 10)\n",
        "net = network.Network([784, 30, 10])\n",
        "net.SGD(training_data, 5, 5, 1.0, test_data=test_data)"
      ],
      "metadata": {
        "colab": {
          "base_uri": "https://localhost:8080/"
        },
        "id": "uAJlirCK_C6f",
        "outputId": "fa9c3810-ce6d-4fc2-c505-541f983b1372"
      },
      "execution_count": 100,
      "outputs": [
        {
          "output_type": "stream",
          "name": "stdout",
          "text": [
            "Epoch 0 complete\n",
            "Epoch 1 complete\n",
            "Epoch 2 complete\n",
            "Epoch 3 complete\n",
            "Epoch 4 complete\n"
          ]
        }
      ]
    },
    {
      "cell_type": "code",
      "source": [
        "# part 3 - experiment with different  hyper parameters\n",
        "#epochs - 5, 15, 30, 60 (Batch size 10, learning 3.0)\n",
        "#batch - 5, 10, 50, 100 (epochs 30, learning data)\n",
        "#learning rate - 1.0, 3.0, 5.0 (epochs 30, batch size 10)\n",
        "net = network.Network([784, 30, 10])\n",
        "net.SGD(training_data, 15, 10, 3.0, test_data=test_data)"
      ],
      "metadata": {
        "colab": {
          "base_uri": "https://localhost:8080/"
        },
        "id": "mnBh0IY5-y7C",
        "outputId": "952f5739-9f4d-49ec-8f9f-656b643a32b9"
      },
      "execution_count": 101,
      "outputs": [
        {
          "output_type": "stream",
          "name": "stdout",
          "text": [
            "Epoch 0 complete\n",
            "Epoch 1 complete\n",
            "Epoch 2 complete\n",
            "Epoch 3 complete\n",
            "Epoch 4 complete\n",
            "Epoch 5 complete\n",
            "Epoch 6 complete\n",
            "Epoch 7 complete\n",
            "Epoch 8 complete\n",
            "Epoch 9 complete\n",
            "Epoch 10 complete\n",
            "Epoch 11 complete\n",
            "Epoch 12 complete\n",
            "Epoch 13 complete\n",
            "Epoch 14 complete\n"
          ]
        }
      ]
    },
    {
      "cell_type": "code",
      "source": [
        "net = network.Network([784, 30, 10])\n",
        "net.SGD(training_data, 30, 10, 3.0, test_data=test_data)"
      ],
      "metadata": {
        "id": "_bQdJK9YAKIk"
      },
      "execution_count": null,
      "outputs": []
    },
    {
      "cell_type": "code",
      "source": [
        "# part 3 - experiment with different  hyper parameters\n",
        "#epochs - 5, 15, 30, 60 (Batch size 10, learning 3.0)\n",
        "#batch - 5, 10, 50, 100 (epochs 30, learning data)\n",
        "#learning rate - 1.0, 3.0, 5.0 (epochs 30, batch size 10)\n",
        "net = network.Network([784, 30, 10])\n",
        "net.SGD(training_data, 60, 10, 3.0, test_data=test_data)"
      ],
      "metadata": {
        "colab": {
          "base_uri": "https://localhost:8080/"
        },
        "id": "6REvFAs92Uax",
        "outputId": "82dbc327-0f80-48ce-f4be-f395ffedb43b"
      },
      "execution_count": 102,
      "outputs": [
        {
          "output_type": "stream",
          "name": "stdout",
          "text": [
            "Epoch 0 complete\n",
            "Epoch 1 complete\n",
            "Epoch 2 complete\n",
            "Epoch 3 complete\n",
            "Epoch 4 complete\n",
            "Epoch 5 complete\n",
            "Epoch 6 complete\n",
            "Epoch 7 complete\n",
            "Epoch 8 complete\n",
            "Epoch 9 complete\n",
            "Epoch 10 complete\n",
            "Epoch 11 complete\n",
            "Epoch 12 complete\n",
            "Epoch 13 complete\n",
            "Epoch 14 complete\n",
            "Epoch 15 complete\n",
            "Epoch 16 complete\n",
            "Epoch 17 complete\n",
            "Epoch 18 complete\n",
            "Epoch 19 complete\n",
            "Epoch 20 complete\n",
            "Epoch 21 complete\n",
            "Epoch 22 complete\n",
            "Epoch 23 complete\n",
            "Epoch 24 complete\n",
            "Epoch 25 complete\n",
            "Epoch 26 complete\n",
            "Epoch 27 complete\n",
            "Epoch 28 complete\n",
            "Epoch 29 complete\n"
          ]
        }
      ]
    },
    {
      "cell_type": "code",
      "source": [
        "# part 3 - experiment with different  hyper parameters\n",
        "#epochs - 5, 15, 30, 60 (Batch size 10, learning 3.0)\n",
        "#batch - 5, 10, 50, 100 (epochs 30, learning data)\n",
        "#learning rate - 1.0, 3.0, 5.0 (epochs 30, batch size 10)\n",
        "net = network.Network([784, 30, 10])\n",
        "net.SGD(training_data, 60, 100, 5.0, test_data=test_data)"
      ],
      "metadata": {
        "colab": {
          "base_uri": "https://localhost:8080/"
        },
        "id": "KUTKdCiu2iAz",
        "outputId": "82903766-72b8-4353-9d4c-e7b74ec56f6e"
      },
      "execution_count": 49,
      "outputs": [
        {
          "output_type": "stream",
          "name": "stdout",
          "text": [
            "Epoch 0 complete\n",
            "Epoch 1 complete\n",
            "Epoch 2 complete\n",
            "Epoch 3 complete\n",
            "Epoch 4 complete\n",
            "Epoch 5 complete\n",
            "Epoch 6 complete\n",
            "Epoch 7 complete\n",
            "Epoch 8 complete\n",
            "Epoch 9 complete\n",
            "Epoch 10 complete\n",
            "Epoch 11 complete\n",
            "Epoch 12 complete\n",
            "Epoch 13 complete\n",
            "Epoch 14 complete\n",
            "Epoch 15 complete\n",
            "Epoch 16 complete\n",
            "Epoch 17 complete\n",
            "Epoch 18 complete\n",
            "Epoch 19 complete\n",
            "Epoch 20 complete\n",
            "Epoch 21 complete\n",
            "Epoch 22 complete\n",
            "Epoch 23 complete\n",
            "Epoch 24 complete\n",
            "Epoch 25 complete\n",
            "Epoch 26 complete\n",
            "Epoch 27 complete\n",
            "Epoch 28 complete\n",
            "Epoch 29 complete\n"
          ]
        }
      ]
    },
    {
      "cell_type": "code",
      "source": [
        "# part 3 - experiment with different  hyper parameters\n",
        "#batch - 5, 10, 50, 100 (epochs 30, learning data)\n",
        "#learning rate - 1.0, 3.0, 5.0 (epochs 30, batch size 10)\n",
        "net = network.Network([784, 30, 10])\n",
        "net.SGD(training_data, 30, 5, 5.0, test_data=test_data)"
      ],
      "metadata": {
        "id": "yBbCqbxa2oDA"
      },
      "execution_count": null,
      "outputs": []
    },
    {
      "cell_type": "code",
      "source": [
        "net = network.Network([784, 30, 10])\n",
        "net.SGD(training_data, 30, 10, 5.0, test_data=test_data)"
      ],
      "metadata": {
        "colab": {
          "base_uri": "https://localhost:8080/"
        },
        "id": "tf-7gh86CWHX",
        "outputId": "bd722be8-1e5c-4ebb-dec3-1812ce10e39b"
      },
      "execution_count": 103,
      "outputs": [
        {
          "output_type": "stream",
          "name": "stdout",
          "text": [
            "Epoch 0 complete\n",
            "Epoch 1 complete\n",
            "Epoch 2 complete\n",
            "Epoch 3 complete\n",
            "Epoch 4 complete\n",
            "Epoch 5 complete\n",
            "Epoch 6 complete\n",
            "Epoch 7 complete\n",
            "Epoch 8 complete\n",
            "Epoch 9 complete\n",
            "Epoch 10 complete\n",
            "Epoch 11 complete\n",
            "Epoch 12 complete\n",
            "Epoch 13 complete\n",
            "Epoch 14 complete\n",
            "Epoch 15 complete\n",
            "Epoch 16 complete\n",
            "Epoch 17 complete\n",
            "Epoch 18 complete\n",
            "Epoch 19 complete\n",
            "Epoch 20 complete\n",
            "Epoch 21 complete\n",
            "Epoch 22 complete\n",
            "Epoch 23 complete\n",
            "Epoch 24 complete\n",
            "Epoch 25 complete\n",
            "Epoch 26 complete\n",
            "Epoch 27 complete\n",
            "Epoch 28 complete\n",
            "Epoch 29 complete\n"
          ]
        }
      ]
    },
    {
      "cell_type": "code",
      "source": [
        "net = network.Network([784, 30, 10])\n",
        "net.SGD(training_data, 30, 50, 5.0, test_data=test_data)"
      ],
      "metadata": {
        "colab": {
          "base_uri": "https://localhost:8080/"
        },
        "id": "kvQdihowCbqU",
        "outputId": "1bd3c9dd-46b8-4d5c-b27d-1a47ea8f7329"
      },
      "execution_count": 105,
      "outputs": [
        {
          "output_type": "stream",
          "name": "stdout",
          "text": [
            "Epoch 0 complete\n",
            "Epoch 1 complete\n",
            "Epoch 2 complete\n",
            "Epoch 3 complete\n",
            "Epoch 4 complete\n",
            "Epoch 5 complete\n",
            "Epoch 6 complete\n",
            "Epoch 7 complete\n",
            "Epoch 8 complete\n",
            "Epoch 9 complete\n",
            "Epoch 10 complete\n",
            "Epoch 11 complete\n",
            "Epoch 12 complete\n",
            "Epoch 13 complete\n",
            "Epoch 14 complete\n",
            "Epoch 15 complete\n",
            "Epoch 16 complete\n",
            "Epoch 17 complete\n",
            "Epoch 18 complete\n",
            "Epoch 19 complete\n",
            "Epoch 20 complete\n",
            "Epoch 21 complete\n",
            "Epoch 22 complete\n",
            "Epoch 23 complete\n",
            "Epoch 24 complete\n",
            "Epoch 25 complete\n",
            "Epoch 26 complete\n",
            "Epoch 27 complete\n",
            "Epoch 28 complete\n",
            "Epoch 29 complete\n"
          ]
        }
      ]
    },
    {
      "cell_type": "code",
      "source": [
        "net = network.Network([784, 30, 10])\n",
        "net.SGD(training_data, 30, 100, 5.0, test_data=test_data)"
      ],
      "metadata": {
        "colab": {
          "base_uri": "https://localhost:8080/"
        },
        "id": "xeR9x4D2CgJW",
        "outputId": "ae342301-7056-4868-cbf5-214e0926fd7c"
      },
      "execution_count": 106,
      "outputs": [
        {
          "output_type": "stream",
          "name": "stdout",
          "text": [
            "Epoch 0 complete\n",
            "Epoch 1 complete\n",
            "Epoch 2 complete\n",
            "Epoch 3 complete\n",
            "Epoch 4 complete\n",
            "Epoch 5 complete\n",
            "Epoch 6 complete\n",
            "Epoch 7 complete\n",
            "Epoch 8 complete\n",
            "Epoch 9 complete\n",
            "Epoch 10 complete\n",
            "Epoch 11 complete\n",
            "Epoch 12 complete\n",
            "Epoch 13 complete\n",
            "Epoch 14 complete\n",
            "Epoch 15 complete\n",
            "Epoch 16 complete\n",
            "Epoch 17 complete\n",
            "Epoch 18 complete\n",
            "Epoch 19 complete\n",
            "Epoch 20 complete\n",
            "Epoch 21 complete\n",
            "Epoch 22 complete\n",
            "Epoch 23 complete\n",
            "Epoch 24 complete\n",
            "Epoch 25 complete\n",
            "Epoch 26 complete\n",
            "Epoch 27 complete\n",
            "Epoch 28 complete\n",
            "Epoch 29 complete\n"
          ]
        }
      ]
    },
    {
      "cell_type": "code",
      "source": [
        "#learning rate - 1.0, 3.0, 5.0 (epochs 30, batch size 10)\n",
        "net = network.Network([784, 30, 10])\n",
        "net.SGD(training_data, 30, 10 , 1.0, test_data=test_data)"
      ],
      "metadata": {
        "colab": {
          "base_uri": "https://localhost:8080/",
          "height": 321
        },
        "id": "JI8xtJ29C9Ox",
        "outputId": "6e2464b7-ad90-47e3-ba90-fb6b353deacf"
      },
      "execution_count": 110,
      "outputs": [
        {
          "output_type": "error",
          "ename": "KeyboardInterrupt",
          "evalue": "",
          "traceback": [
            "\u001b[0;31m---------------------------------------------------------------------------\u001b[0m",
            "\u001b[0;31mKeyboardInterrupt\u001b[0m                         Traceback (most recent call last)",
            "\u001b[0;32m<ipython-input-110-d1f47ad35034>\u001b[0m in \u001b[0;36m<cell line: 3>\u001b[0;34m()\u001b[0m\n\u001b[1;32m      1\u001b[0m \u001b[0;31m#learning rate - 1.0, 3.0, 5.0 (epochs 30, batch size 10)\u001b[0m\u001b[0;34m\u001b[0m\u001b[0;34m\u001b[0m\u001b[0m\n\u001b[1;32m      2\u001b[0m \u001b[0mnet\u001b[0m \u001b[0;34m=\u001b[0m \u001b[0mnetwork\u001b[0m\u001b[0;34m.\u001b[0m\u001b[0mNetwork\u001b[0m\u001b[0;34m(\u001b[0m\u001b[0;34m[\u001b[0m\u001b[0;36m784\u001b[0m\u001b[0;34m,\u001b[0m \u001b[0;36m30\u001b[0m\u001b[0;34m,\u001b[0m \u001b[0;36m10\u001b[0m\u001b[0;34m]\u001b[0m\u001b[0;34m)\u001b[0m\u001b[0;34m\u001b[0m\u001b[0;34m\u001b[0m\u001b[0m\n\u001b[0;32m----> 3\u001b[0;31m \u001b[0mnet\u001b[0m\u001b[0;34m.\u001b[0m\u001b[0mSGD\u001b[0m\u001b[0;34m(\u001b[0m\u001b[0mtraining_data\u001b[0m\u001b[0;34m,\u001b[0m \u001b[0;36m30\u001b[0m\u001b[0;34m,\u001b[0m \u001b[0;36m10\u001b[0m \u001b[0;34m,\u001b[0m \u001b[0;36m1.0\u001b[0m\u001b[0;34m,\u001b[0m \u001b[0mtest_data\u001b[0m\u001b[0;34m=\u001b[0m\u001b[0mtest_data\u001b[0m\u001b[0;34m)\u001b[0m\u001b[0;34m\u001b[0m\u001b[0;34m\u001b[0m\u001b[0m\n\u001b[0m",
            "\u001b[0;32m/content/nn/network.py\u001b[0m in \u001b[0;36mSGD\u001b[0;34m(self, training_data, epochs, mini_batch_size, eta, test_data)\u001b[0m\n\u001b[1;32m     69\u001b[0m                 for k in range(0, n, mini_batch_size)]\n\u001b[1;32m     70\u001b[0m             \u001b[0;32mfor\u001b[0m \u001b[0mmini_batch\u001b[0m \u001b[0;32min\u001b[0m \u001b[0mmini_batches\u001b[0m\u001b[0;34m:\u001b[0m\u001b[0;34m\u001b[0m\u001b[0;34m\u001b[0m\u001b[0m\n\u001b[0;32m---> 71\u001b[0;31m                 \u001b[0mself\u001b[0m\u001b[0;34m.\u001b[0m\u001b[0mupdate_mini_batch\u001b[0m\u001b[0;34m(\u001b[0m\u001b[0mmini_batch\u001b[0m\u001b[0;34m,\u001b[0m \u001b[0meta\u001b[0m\u001b[0;34m)\u001b[0m\u001b[0;34m\u001b[0m\u001b[0;34m\u001b[0m\u001b[0m\n\u001b[0m\u001b[1;32m     72\u001b[0m             \u001b[0;32mif\u001b[0m \u001b[0mtest_data\u001b[0m\u001b[0;34m:\u001b[0m\u001b[0;34m\u001b[0m\u001b[0;34m\u001b[0m\u001b[0m\n\u001b[1;32m     73\u001b[0m                 \u001b[0mprint\u001b[0m\u001b[0;34m(\u001b[0m\u001b[0;34m\"Epoch {} : {} / {}\"\u001b[0m\u001b[0;34m.\u001b[0m\u001b[0mformat\u001b[0m\u001b[0;34m(\u001b[0m\u001b[0mj\u001b[0m\u001b[0;34m,\u001b[0m\u001b[0mself\u001b[0m\u001b[0;34m.\u001b[0m\u001b[0mevaluate\u001b[0m\u001b[0;34m(\u001b[0m\u001b[0mtest_data\u001b[0m\u001b[0;34m)\u001b[0m\u001b[0;34m,\u001b[0m\u001b[0mn_test\u001b[0m\u001b[0;34m)\u001b[0m\u001b[0;34m)\u001b[0m\u001b[0;34m\u001b[0m\u001b[0;34m\u001b[0m\u001b[0m\n",
            "\u001b[0;32m/content/nn/network.py\u001b[0m in \u001b[0;36mupdate_mini_batch\u001b[0;34m(self, mini_batch, eta)\u001b[0m\n\u001b[1;32m     83\u001b[0m         \u001b[0mnabla_w\u001b[0m \u001b[0;34m=\u001b[0m \u001b[0;34m[\u001b[0m\u001b[0mnp\u001b[0m\u001b[0;34m.\u001b[0m\u001b[0mzeros\u001b[0m\u001b[0;34m(\u001b[0m\u001b[0mw\u001b[0m\u001b[0;34m.\u001b[0m\u001b[0mshape\u001b[0m\u001b[0;34m)\u001b[0m \u001b[0;32mfor\u001b[0m \u001b[0mw\u001b[0m \u001b[0;32min\u001b[0m \u001b[0mself\u001b[0m\u001b[0;34m.\u001b[0m\u001b[0mweights\u001b[0m\u001b[0;34m]\u001b[0m\u001b[0;34m\u001b[0m\u001b[0;34m\u001b[0m\u001b[0m\n\u001b[1;32m     84\u001b[0m         \u001b[0;32mfor\u001b[0m \u001b[0mx\u001b[0m\u001b[0;34m,\u001b[0m \u001b[0my\u001b[0m \u001b[0;32min\u001b[0m \u001b[0mmini_batch\u001b[0m\u001b[0;34m:\u001b[0m\u001b[0;34m\u001b[0m\u001b[0;34m\u001b[0m\u001b[0m\n\u001b[0;32m---> 85\u001b[0;31m             \u001b[0mdelta_nabla_b\u001b[0m\u001b[0;34m,\u001b[0m \u001b[0mdelta_nabla_w\u001b[0m \u001b[0;34m=\u001b[0m \u001b[0mself\u001b[0m\u001b[0;34m.\u001b[0m\u001b[0mbackprop\u001b[0m\u001b[0;34m(\u001b[0m\u001b[0mx\u001b[0m\u001b[0;34m,\u001b[0m \u001b[0my\u001b[0m\u001b[0;34m)\u001b[0m\u001b[0;34m\u001b[0m\u001b[0;34m\u001b[0m\u001b[0m\n\u001b[0m\u001b[1;32m     86\u001b[0m             \u001b[0mnabla_b\u001b[0m \u001b[0;34m=\u001b[0m \u001b[0;34m[\u001b[0m\u001b[0mnb\u001b[0m\u001b[0;34m+\u001b[0m\u001b[0mdnb\u001b[0m \u001b[0;32mfor\u001b[0m \u001b[0mnb\u001b[0m\u001b[0;34m,\u001b[0m \u001b[0mdnb\u001b[0m \u001b[0;32min\u001b[0m \u001b[0mzip\u001b[0m\u001b[0;34m(\u001b[0m\u001b[0mnabla_b\u001b[0m\u001b[0;34m,\u001b[0m \u001b[0mdelta_nabla_b\u001b[0m\u001b[0;34m)\u001b[0m\u001b[0;34m]\u001b[0m\u001b[0;34m\u001b[0m\u001b[0;34m\u001b[0m\u001b[0m\n\u001b[1;32m     87\u001b[0m             \u001b[0mnabla_w\u001b[0m \u001b[0;34m=\u001b[0m \u001b[0;34m[\u001b[0m\u001b[0mnw\u001b[0m\u001b[0;34m+\u001b[0m\u001b[0mdnw\u001b[0m \u001b[0;32mfor\u001b[0m \u001b[0mnw\u001b[0m\u001b[0;34m,\u001b[0m \u001b[0mdnw\u001b[0m \u001b[0;32min\u001b[0m \u001b[0mzip\u001b[0m\u001b[0;34m(\u001b[0m\u001b[0mnabla_w\u001b[0m\u001b[0;34m,\u001b[0m \u001b[0mdelta_nabla_w\u001b[0m\u001b[0;34m)\u001b[0m\u001b[0;34m]\u001b[0m\u001b[0;34m\u001b[0m\u001b[0;34m\u001b[0m\u001b[0m\n",
            "\u001b[0;32m/content/nn/network.py\u001b[0m in \u001b[0;36mbackprop\u001b[0;34m(self, x, y)\u001b[0m\n\u001b[1;32m    103\u001b[0m         \u001b[0mzs\u001b[0m \u001b[0;34m=\u001b[0m \u001b[0;34m[\u001b[0m\u001b[0;34m]\u001b[0m \u001b[0;31m# list to store all the z vectors, layer by layer\u001b[0m\u001b[0;34m\u001b[0m\u001b[0;34m\u001b[0m\u001b[0m\n\u001b[1;32m    104\u001b[0m         \u001b[0;32mfor\u001b[0m \u001b[0mb\u001b[0m\u001b[0;34m,\u001b[0m \u001b[0mw\u001b[0m \u001b[0;32min\u001b[0m \u001b[0mzip\u001b[0m\u001b[0;34m(\u001b[0m\u001b[0mself\u001b[0m\u001b[0;34m.\u001b[0m\u001b[0mbiases\u001b[0m\u001b[0;34m,\u001b[0m \u001b[0mself\u001b[0m\u001b[0;34m.\u001b[0m\u001b[0mweights\u001b[0m\u001b[0;34m)\u001b[0m\u001b[0;34m:\u001b[0m\u001b[0;34m\u001b[0m\u001b[0;34m\u001b[0m\u001b[0m\n\u001b[0;32m--> 105\u001b[0;31m             \u001b[0mz\u001b[0m \u001b[0;34m=\u001b[0m \u001b[0mnp\u001b[0m\u001b[0;34m.\u001b[0m\u001b[0mdot\u001b[0m\u001b[0;34m(\u001b[0m\u001b[0mw\u001b[0m\u001b[0;34m,\u001b[0m \u001b[0mactivation\u001b[0m\u001b[0;34m)\u001b[0m\u001b[0;34m+\u001b[0m\u001b[0mb\u001b[0m\u001b[0;34m\u001b[0m\u001b[0;34m\u001b[0m\u001b[0m\n\u001b[0m\u001b[1;32m    106\u001b[0m             \u001b[0mzs\u001b[0m\u001b[0;34m.\u001b[0m\u001b[0mappend\u001b[0m\u001b[0;34m(\u001b[0m\u001b[0mz\u001b[0m\u001b[0;34m)\u001b[0m\u001b[0;34m\u001b[0m\u001b[0;34m\u001b[0m\u001b[0m\n\u001b[1;32m    107\u001b[0m             \u001b[0mactivation\u001b[0m \u001b[0;34m=\u001b[0m \u001b[0msigmoid\u001b[0m\u001b[0;34m(\u001b[0m\u001b[0mz\u001b[0m\u001b[0;34m)\u001b[0m\u001b[0;34m\u001b[0m\u001b[0;34m\u001b[0m\u001b[0m\n",
            "\u001b[0;32m/usr/local/lib/python3.10/dist-packages/numpy/core/overrides.py\u001b[0m in \u001b[0;36mdot\u001b[0;34m(*args, **kwargs)\u001b[0m\n",
            "\u001b[0;31mKeyboardInterrupt\u001b[0m: "
          ]
        }
      ]
    },
    {
      "cell_type": "code",
      "source": [
        "#learning rate - 1.0, 3.0, 5.0 (epochs 30, batch size 10)\n",
        "net = network.Network([784, 30, 10])\n",
        "net.SGD(training_data, 30, 10 , 3.0, test_data=test_data)"
      ],
      "metadata": {
        "colab": {
          "base_uri": "https://localhost:8080/"
        },
        "id": "Okn-d4XtDIei",
        "outputId": "98d729c5-f268-4cc3-fd13-e9f7391b23a1"
      },
      "execution_count": 108,
      "outputs": [
        {
          "output_type": "stream",
          "name": "stdout",
          "text": [
            "Epoch 0 complete\n",
            "Epoch 1 complete\n",
            "Epoch 2 complete\n",
            "Epoch 3 complete\n",
            "Epoch 4 complete\n",
            "Epoch 5 complete\n",
            "Epoch 6 complete\n",
            "Epoch 7 complete\n",
            "Epoch 8 complete\n",
            "Epoch 9 complete\n",
            "Epoch 10 complete\n",
            "Epoch 11 complete\n",
            "Epoch 12 complete\n",
            "Epoch 13 complete\n",
            "Epoch 14 complete\n",
            "Epoch 15 complete\n",
            "Epoch 16 complete\n",
            "Epoch 17 complete\n",
            "Epoch 18 complete\n",
            "Epoch 19 complete\n",
            "Epoch 20 complete\n",
            "Epoch 21 complete\n",
            "Epoch 22 complete\n",
            "Epoch 23 complete\n",
            "Epoch 24 complete\n",
            "Epoch 25 complete\n",
            "Epoch 26 complete\n",
            "Epoch 27 complete\n",
            "Epoch 28 complete\n",
            "Epoch 29 complete\n"
          ]
        }
      ]
    },
    {
      "cell_type": "code",
      "source": [
        "net = network.Network([784, 30, 10])\n",
        "net.SGD(training_data, 30, 10 , 5.0, test_data=test_data)"
      ],
      "metadata": {
        "colab": {
          "base_uri": "https://localhost:8080/"
        },
        "id": "n7X-IJvtDNgb",
        "outputId": "f0db2cab-0164-4395-c7df-d1f6fe490d82"
      },
      "execution_count": 109,
      "outputs": [
        {
          "output_type": "stream",
          "name": "stdout",
          "text": [
            "Epoch 0 complete\n",
            "Epoch 1 complete\n",
            "Epoch 2 complete\n",
            "Epoch 3 complete\n",
            "Epoch 4 complete\n",
            "Epoch 5 complete\n",
            "Epoch 6 complete\n",
            "Epoch 7 complete\n",
            "Epoch 8 complete\n",
            "Epoch 9 complete\n",
            "Epoch 10 complete\n",
            "Epoch 11 complete\n",
            "Epoch 12 complete\n",
            "Epoch 13 complete\n",
            "Epoch 14 complete\n",
            "Epoch 15 complete\n",
            "Epoch 16 complete\n",
            "Epoch 17 complete\n",
            "Epoch 18 complete\n",
            "Epoch 19 complete\n",
            "Epoch 20 complete\n",
            "Epoch 21 complete\n",
            "Epoch 22 complete\n",
            "Epoch 23 complete\n",
            "Epoch 24 complete\n",
            "Epoch 25 complete\n",
            "Epoch 26 complete\n",
            "Epoch 27 complete\n",
            "Epoch 28 complete\n",
            "Epoch 29 complete\n"
          ]
        }
      ]
    }
  ]
}